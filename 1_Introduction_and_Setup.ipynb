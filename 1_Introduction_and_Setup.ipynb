{
  "cells": [
    {
      "cell_type": "markdown",
      "metadata": {},
      "source": [
        "# 1. Introduction to Cell2Sentence and Environment Setup\n",
        "\n",
        "In this notebook, we introduce the concept of Large Language Models (LLMs) in single-cell transcriptomics, specifically focusing on the [Cell2Sentence (C2S)](https://github.com/vandijklab/cell2sentence) framework. We also provide instructions to set up your environment for running the subsequent hands-on tutorials.\n",
        "\n",
        "## Learning Objectives\n",
        "1. Understand the rationale for using LLMs in single-cell data interpretation.\n",
        "2. Review how Cell2Sentence converts gene expression profiles into text.\n",
        "3. Install and verify the required Python packages, including the `cell2sentence` library.\n",
        "\n",
        "Let's get started!"
      ]
    },
    {
      "cell_type": "markdown",
      "metadata": {},
      "source": [
        "## 1.1. Background: LLMs in Single-Cell Transcriptomics\n",
        "\n",
        "Single-cell RNA sequencing (scRNA-seq) data often require annotation of tens of thousands of cells with diverse gene expression profiles. Traditional approaches rely on marker gene knowledge or clustering, which can be time-consuming.\n",
        "\n",
        "Large Language Models (LLMs) like GPT, BERT variants, or specialized models can assist by using their pattern recognition strengths. **Cell2Sentence (C2S)** bridges numeric gene expression data and text-based LLMs by converting each cell's expression profile into a 'sentence' of genes, sorted by expression level. This approach:\n",
        "- Allows cell type annotation via natural language classification.\n",
        "- Enables generative modeling for synthetic cells.\n",
        "- Facilitates marker identification and text-based data mining.\n"
      ]
    },
    {
      "cell_type": "markdown",
      "metadata": {},
      "source": [
        "## 1.2. Environment Setup\n",
        "\n",
        "We'll use a Python 3.8+ environment (Conda recommended) and install the `cell2sentence` library from PyPI. It also pulls in dependencies like `scanpy`, `torch`, and `transformers`.\n",
        "\n",
        "### 1.2.1 Creating a Conda environment\n",
        "```bash\n",
        "conda create -n cell2sentence_env python=3.8 -y\n",
        "conda activate cell2sentence_env\n",
        "```\n",
        "\n",
        "### 1.2.2 Installing Cell2Sentence\n",
        "```bash\n",
        "pip install cell2sentence\n",
        "```\n",
        "\n",
        "*(If you don't use Conda, just ensure your Python version is 3.8+ and run the pip install.)*"
      ]
    },
    {
      "cell_type": "markdown",
      "metadata": {},
      "source": [
        "### 1.2.3 Verifying Installation\n",
        "Open a Python interpreter or use the cell below to verify:\n"
      ]
    },
    {
      "cell_type": "code",
      "execution_count": 1,
      "metadata": {},
      "outputs": [
        {
          "name": "stderr",
          "output_type": "stream",
          "text": [
            "/home/pieterdb/anaconda3/envs/cell2sentence_env/lib/python3.8/site-packages/tqdm/auto.py:21: TqdmWarning: IProgress not found. Please update jupyter and ipywidgets. See https://ipywidgets.readthedocs.io/en/stable/user_install.html\n",
            "  from .autonotebook import tqdm as notebook_tqdm\n"
          ]
        },
        {
          "name": "stdout",
          "output_type": "stream",
          "text": [
            "Cell2Sentence version: 0.0.2\n",
            "Scanpy version: 1.9.8\n",
            "PyTorch version: 2.4.1+cu121\n",
            "Transformers version: 4.46.3\n",
            "CUDA available? True\n"
          ]
        }
      ],
      "source": [
        "import cell2sentence as c2s\n",
        "import scanpy as sc\n",
        "import torch\n",
        "import transformers\n",
        "\n",
        "print(\"Cell2Sentence version:\", c2s.__version__)\n",
        "print(\"Scanpy version:\", sc.__version__)\n",
        "print(\"PyTorch version:\", torch.__version__)\n",
        "print(\"Transformers version:\", transformers.__version__)\n",
        "\n",
        "print(\"CUDA available?\", torch.cuda.is_available())"
      ]
    },
    {
      "cell_type": "markdown",
      "metadata": {},
      "source": [
        "If everything imports without error, you're good to go! If you have a CUDA-compatible GPU and the right drivers installed, `torch.cuda.is_available()` should return `True`.\n",
        "\n",
        "If you see any errors, please double-check that your environment is active and that all dependencies are installed."
      ]
    },
    {
      "cell_type": "markdown",
      "metadata": {},
      "source": [
        "## Next Steps\n",
        "You're now ready to proceed to the data preprocessing and annotation workflows. Head over to the next notebook to learn how to load a sample dataset, filter and convert it into cell sentences.\n",
        "\n",
        "[Go to Notebook 2 →](./2_Preprocessing_and_Cell2Sentence.ipynb)"
      ]
    }
  ],
  "metadata": {
    "kernelspec": {
      "display_name": "cell2sentence_env",
      "language": "python",
      "name": "python3"
    },
    "language_info": {
      "codemirror_mode": {
        "name": "ipython",
        "version": 3
      },
      "file_extension": ".py",
      "mimetype": "text/x-python",
      "name": "python",
      "nbconvert_exporter": "python",
      "pygments_lexer": "ipython3",
      "version": "3.8.20"
    },
    "name": "Introduction_and_Setup"
  },
  "nbformat": 4,
  "nbformat_minor": 5
}
